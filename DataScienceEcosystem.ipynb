{
 "cells": [
  {
   "cell_type": "markdown",
   "id": "3bc0e8e2",
   "metadata": {},
   "source": [
    "# data Science Tools and Ecosystem"
   ]
  },
  {
   "cell_type": "markdown",
   "id": "6fc1e5a7",
   "metadata": {},
   "source": [
    "In this notebook, Data Science Tools and Ecosystem are summarized."
   ]
  },
  {
   "cell_type": "markdown",
   "id": "8fa3213d",
   "metadata": {},
   "source": [
    "**Objectives:**\n",
    "- Some of the popular languages that Data Scientists\n",
    "- Some of the commonly used libraries used by Data Scientist\n",
    "- data science environment"
   ]
  },
  {
   "cell_type": "markdown",
   "id": "8bf916fa",
   "metadata": {},
   "source": [
    "Some of the popular languages that Data Scientists use are:\n",
    "   1. Julia\n",
    "   2. R\n",
    "   3. Python"
   ]
  },
  {
   "cell_type": "markdown",
   "id": "247ca997",
   "metadata": {},
   "source": [
    "Some of the commonly used libraries used by Data Scientists include:\n",
    "   1. TensorFlow\n",
    "   2. NumPy\n",
    "   3. Pandas\n"
   ]
  },
  {
   "cell_type": "markdown",
   "id": "755b1263",
   "metadata": {},
   "source": [
    "|Data science tools |\n",
    "| --------------    |\n",
    "| Git               |\n",
    "| Apache Subversion |\n",
    "| Eclipse IDE       |\n"
   ]
  },
  {
   "cell_type": "markdown",
   "id": "ab58a61d",
   "metadata": {},
   "source": [
    "Below are a few examples of evaluating arithmetic expressions in Python."
   ]
  },
  {
   "cell_type": "code",
   "execution_count": 1,
   "id": "372509d5",
   "metadata": {},
   "outputs": [
    {
     "data": {
      "text/plain": [
       "17"
      ]
     },
     "execution_count": 1,
     "metadata": {},
     "output_type": "execute_result"
    }
   ],
   "source": [
    "# This a simple arithmetic expression to mutiply then add integers\n",
    "(3*4)+5"
   ]
  },
  {
   "cell_type": "code",
   "execution_count": 2,
   "id": "f8a0f855",
   "metadata": {},
   "outputs": [
    {
     "name": "stdout",
     "output_type": "stream",
     "text": [
      "200 minutes to hours 3.3333333333333335\n"
     ]
    }
   ],
   "source": [
    "n= 200\n",
    "hours=n/60\n",
    "print(\"200 minutes to hours\",hours)\n"
   ]
  },
  {
   "cell_type": "markdown",
   "id": "022d6401",
   "metadata": {},
   "source": [
    "## Author \n",
    "Soumik Dasgupta"
   ]
  },
  {
   "cell_type": "code",
   "execution_count": null,
   "id": "cd64de71",
   "metadata": {},
   "outputs": [],
   "source": []
  }
 ],
 "metadata": {
  "kernelspec": {
   "display_name": "Python 3 (ipykernel)",
   "language": "python",
   "name": "python3"
  },
  "language_info": {
   "codemirror_mode": {
    "name": "ipython",
    "version": 3
   },
   "file_extension": ".py",
   "mimetype": "text/x-python",
   "name": "python",
   "nbconvert_exporter": "python",
   "pygments_lexer": "ipython3",
   "version": "3.11.4"
  }
 },
 "nbformat": 4,
 "nbformat_minor": 5
}
